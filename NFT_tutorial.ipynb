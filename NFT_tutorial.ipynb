{
 "cells": [
  {
   "cell_type": "code",
   "execution_count": 1,
   "metadata": {},
   "outputs": [],
   "source": [
    "## Main Snippet 1 \n",
    "\n",
    "# Import necessary libraries \n",
    "from PIL import Image \n",
    "import random\n",
    "import json\n",
    "import os\n",
    "\n",
    "# Connect to Github repo to load raw images and metadata file\n",
    "\n",
    "#add here"
   ]
  },
  {
   "cell_type": "markdown",
   "metadata": {},
   "source": []
  },
  {
   "cell_type": "code",
   "execution_count": 2,
   "metadata": {},
   "outputs": [],
   "source": [
    "## Main Snippet 2\n",
    "\n",
    "# Each image is made up a series of traits\n",
    "# The weitages for each trait distribute the rarity and add up to 100%\n",
    "\n",
    "background = [\"Blue\", \"Orange\", \"Pink\", \"Green\", \"Mint\"] \n",
    "background_weights = [40, 30, 15, 10, 5]\n",
    "\n",
    "racecar = [\"Red Race Car\", \"Street Car\", ] \n",
    "racecar_weights = [99, 1]\n",
    "\n",
    "\n",
    "\n",
    "# Dictionary variable for each trait. \n",
    "# Each trait corresponds to its file name (from raw images from Github)\n",
    "\n",
    "background_files = {\n",
    "    \"Blue\": \"blue_background\",\n",
    "    \"Orange\": \"orange_background\",\n",
    "    \"Pink\": \"pink_background\",\n",
    "    \"Green\": \"green_background\",\n",
    "    \"Mint\": \"mint_background\",\n",
    "}\n",
    "\n",
    "racecar_files = {\n",
    "    \"Red Race Car\": \"pixel_racecar\",\n",
    "    \"Street Car\": \"pixel_streetcar\",\n",
    "   \n",
    "}"
   ]
  },
  {
   "cell_type": "code",
   "execution_count": 4,
   "metadata": {},
   "outputs": [],
   "source": [
    "## Main Snippet 3\n",
    "\n",
    "# Generate Traits\n",
    "# Number of random unique images to be generated\n",
    "TOTAL_IMAGES = 10\n",
    "\n",
    "all_images = [] \n",
    "\n",
    "# A recursive function to generate unique image combinations\n",
    "def create_new_image():\n",
    "    \n",
    "    new_image = {} #\n",
    "\n",
    "    # For each trait category, select a random trait based on the weightings \n",
    "    new_image [\"Background\"] = random.choices(background, background_weights)[0]\n",
    "    new_image [\"Race Car\"] = random.choices(racecar, racecar_weights)[0]\n",
    "\n",
    "    \n",
    "    if new_image in all_images:\n",
    "        return create_new_image()\n",
    "    else:\n",
    "        return new_image\n",
    "    \n",
    "    \n",
    "# Generate the unique combinations based on trait weightings\n",
    "for i in range(TOTAL_IMAGES): \n",
    "    \n",
    "    new_trait_image = create_new_image()\n",
    "    \n",
    "    all_images.append(new_trait_image)\n",
    "\n",
    "# Add token Id to each image\n",
    "i = 0\n",
    "for item in all_images:\n",
    "    item[\"tokenId\"] = i\n",
    "    i = i + 1"
   ]
  },
  {
   "cell_type": "code",
   "execution_count": 5,
   "metadata": {},
   "outputs": [
    {
     "name": "stdout",
     "output_type": "stream",
     "text": [
      "Are all images unique? True\n"
     ]
    }
   ],
   "source": [
    "##OPTIONAL \n",
    "\n",
    "# Returns true if all images are unique\n",
    "def all_images_unique(all_images):\n",
    "    seen = list()\n",
    "    return not any(i in seen or seen.append(i) for i in all_images)\n",
    "\n",
    "print(\"Are all images unique?\", all_images_unique(all_images))"
   ]
  },
  {
   "cell_type": "code",
   "execution_count": 6,
   "metadata": {},
   "outputs": [
    {
     "name": "stdout",
     "output_type": "stream",
     "text": [
      "{'Background': 'Orange', 'Race Car': 'Red Race Car', 'tokenId': 0}\n",
      "{'Background': 'Pink', 'Race Car': 'Red Race Car', 'tokenId': 1}\n",
      "{'Background': 'Blue', 'Race Car': 'Red Race Car', 'tokenId': 2}\n",
      "{'Background': 'Green', 'Race Car': 'Red Race Car', 'tokenId': 3}\n",
      "{'Background': 'Mint', 'Race Car': 'Red Race Car', 'tokenId': 4}\n",
      "{'Background': 'Blue', 'Race Car': 'Street Car', 'tokenId': 5}\n",
      "{'Background': 'Orange', 'Race Car': 'Street Car', 'tokenId': 6}\n",
      "{'Background': 'Green', 'Race Car': 'Street Car', 'tokenId': 7}\n",
      "{'Background': 'Pink', 'Race Car': 'Street Car', 'tokenId': 8}\n",
      "{'Background': 'Mint', 'Race Car': 'Street Car', 'tokenId': 9}\n"
     ]
    }
   ],
   "source": [
    "##OPTIONAL \n",
    "\n",
    "#print out the metadata of all generated images\n",
    "print(*all_images, sep = \"\\n\")\n"
   ]
  },
  {
   "cell_type": "code",
   "execution_count": 7,
   "metadata": {},
   "outputs": [
    {
     "name": "stdout",
     "output_type": "stream",
     "text": [
      "{'Blue': 2, 'Orange': 2, 'Pink': 2, 'Green': 2, 'Mint': 2}\n",
      "{'Red Race Car': 5, 'Street Car': 5}\n"
     ]
    }
   ],
   "source": [
    "##OPTIONAL \n",
    "\n",
    "# Get Trait Counts\n",
    "background_count = {}\n",
    "for item in background:\n",
    "    background_count[item] = 0\n",
    "\n",
    "racecar_count = {}\n",
    "for item in racecar:\n",
    "    racecar_count[item] = 0\n",
    "    \n",
    "\n",
    "for image in all_images:\n",
    "    background_count[image[\"Background\"]] += 1\n",
    "    racecar_count[image[\"Race Car\"]] += 1\n",
    " \n",
    "    \n",
    "print(background_count)\n",
    "print(racecar_count)\n"
   ]
  },
  {
   "cell_type": "code",
   "execution_count": 8,
   "metadata": {},
   "outputs": [],
   "source": [
    "##OPTIONAL\n",
    "\n",
    "# Generate Metadata for all Traits \n",
    "with open('metadata.json', 'w') as outfile:\n",
    "    json.dump(all_images, outfile, indent=4)\n"
   ]
  },
  {
   "cell_type": "code",
   "execution_count": 10,
   "metadata": {},
   "outputs": [],
   "source": [
    "## Main Snippet 4\n",
    "\n",
    "# Create a directory for output images \n",
    "\n",
    "#os.mkdir(\"/content/images/\") \n",
    "\n",
    "# Generate Images    \n",
    "for item in all_images:\n",
    "\n",
    "    im1 = Image.open(f'/Users/cameronstevens/Documents/Coding/NFT_tutorial/NFTs/raw_images/backgrounds/{background_files[item[\"Background\"]]}.png').convert('RGBA')\n",
    "    im2 = Image.open(f'/Users/cameronstevens/Documents/Coding/NFT_tutorial/NFTs/raw_images/racecar/{racecar_files[item[\"Race Car\"]]}.png').convert('RGBA')\n",
    "   \n",
    "\n",
    "    #Create each composite\n",
    "    com1 = Image.alpha_composite(im1, im2)\n",
    "   \n",
    "\n",
    "    #Convert to RGB\n",
    "    rgb_im = com1.convert('RGB')\n",
    "    file_name = str(item[\"tokenId\"]) + \".png\"\n",
    "    rgb_im.save(\"/Users/cameronstevens/Documents/Coding/NFT_tutorial/NFTs/images\" + file_name)"
   ]
  },
  {
   "cell_type": "code",
   "execution_count": null,
   "metadata": {},
   "outputs": [],
   "source": [
    "##OPTIONAL \n",
    "\n",
    "#To download generated NFT arts locally \n",
    "from google.colab import files\n",
    "!zip -r /content/nft_images.zip /content/images/\n",
    "files.download(\"/content/nft_images.zip\")\n"
   ]
  },
  {
   "cell_type": "code",
   "execution_count": 13,
   "metadata": {},
   "outputs": [
    {
     "ename": "IsADirectoryError",
     "evalue": "[Errno 21] Is a directory: '/Users/cameronstevens/Documents/Coding/NFT_tutorial/NFTs/metadata'",
     "output_type": "error",
     "traceback": [
      "\u001b[0;31m---------------------------------------------------------------------------\u001b[0m",
      "\u001b[0;31mIsADirectoryError\u001b[0m                         Traceback (most recent call last)",
      "\u001b[0;32m/var/folders/_b/73gstkds7m3cjfsd680nbv280000gn/T/ipykernel_32281/2642522451.py\u001b[0m in \u001b[0;36m<module>\u001b[0;34m\u001b[0m\n\u001b[1;32m      2\u001b[0m \u001b[0;31m# Generate Metadata for each Image\u001b[0m\u001b[0;34m\u001b[0m\u001b[0;34m\u001b[0m\u001b[0m\n\u001b[1;32m      3\u001b[0m \u001b[0;34m\u001b[0m\u001b[0m\n\u001b[0;32m----> 4\u001b[0;31m \u001b[0mf\u001b[0m \u001b[0;34m=\u001b[0m \u001b[0mopen\u001b[0m\u001b[0;34m(\u001b[0m\u001b[0;34m'/Users/cameronstevens/Documents/Coding/NFT_tutorial/NFTs/metadata'\u001b[0m\u001b[0;34m,\u001b[0m\u001b[0;34m)\u001b[0m\u001b[0;34m\u001b[0m\u001b[0m\n\u001b[0m\u001b[1;32m      5\u001b[0m \u001b[0mdata\u001b[0m \u001b[0;34m=\u001b[0m \u001b[0mjson\u001b[0m\u001b[0;34m.\u001b[0m\u001b[0mload\u001b[0m\u001b[0;34m(\u001b[0m\u001b[0mf\u001b[0m\u001b[0;34m)\u001b[0m\u001b[0;34m\u001b[0m\u001b[0m\n\u001b[1;32m      6\u001b[0m \u001b[0;34m\u001b[0m\u001b[0m\n",
      "\u001b[0;31mIsADirectoryError\u001b[0m: [Errno 21] Is a directory: '/Users/cameronstevens/Documents/Coding/NFT_tutorial/NFTs/metadata'"
     ]
    }
   ],
   "source": [
    "\n",
    "##OPTIONAL \n",
    "# Generate Metadata for each Image    \n",
    "\n",
    "f = open('/Users/cameronstevens/Documents/Coding/NFT_tutorial/NFTs/metadata',) \n",
    "data = json.load(f)\n",
    "\n",
    "IMAGES_BASE_URI = \"ADD_IMAGES_BASE_URI_HERE\"\n",
    "PROJECT_NAME = \"ADD_PROJECT_NAME_HERE\"\n",
    "\n",
    "def getAttribute(key, value):\n",
    "    return {\n",
    "        \"trait_type\": key,\n",
    "        \"value\": value\n",
    "    }\n",
    "for i in data:\n",
    "    token_id = i['tokenId']\n",
    "    token = {\n",
    "        \"image\": IMAGES_BASE_URI + str(token_id) + '.png',\n",
    "        \"tokenId\": token_id,\n",
    "        \"name\": PROJECT_NAME + ' ' + str(token_id),\n",
    "        \"attributes\": []\n",
    "    }\n",
    "    token[\"attributes\"].append(getAttribute(\"Background\", i[\"Background\"]))\n",
    "    token[\"attributes\"].append(getAttribute(\"Circle\", i[\"Circle\"]))\n",
    "    token[\"attributes\"].append(getAttribute(\"Square\", i[\"Square\"]))\n",
    "\n",
    "    with open('/Users/cameronstevens/Documents/Coding/NFT_tutorial/NFTs/metadata' + str(token_id), 'w') as outfile:\n",
    "        json.dump(token, outfile, indent=4)\n",
    "f.close()"
   ]
  }
 ],
 "metadata": {
  "interpreter": {
   "hash": "9e951e47313225ed64187a2b91f7a0818bbfddcc154fe88eefebdbebcb9bcac2"
  },
  "kernelspec": {
   "display_name": "Python 3.7.0 ('lighthouse_env')",
   "language": "python",
   "name": "python3"
  },
  "language_info": {
   "codemirror_mode": {
    "name": "ipython",
    "version": 3
   },
   "file_extension": ".py",
   "mimetype": "text/x-python",
   "name": "python",
   "nbconvert_exporter": "python",
   "pygments_lexer": "ipython3",
   "version": "3.7.0"
  },
  "orig_nbformat": 4
 },
 "nbformat": 4,
 "nbformat_minor": 2
}
